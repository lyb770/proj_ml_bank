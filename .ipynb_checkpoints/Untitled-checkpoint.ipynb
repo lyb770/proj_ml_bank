{
 "cells": [
  {
   "cell_type": "code",
   "execution_count": 1,
   "id": "4621d461",
   "metadata": {},
   "outputs": [],
   "source": [
    "file_name = \"bank-data.csv\""
   ]
  },
  {
   "cell_type": "code",
   "execution_count": 2,
   "id": "d16cd648",
   "metadata": {},
   "outputs": [],
   "source": [
    "import pandas as pd\n",
    "import numpy as np\n",
    "import matplotlib.pyplot as plt\n",
    "%matplotlib inline\n",
    "import seaborn as sns\n",
    "\n",
    "# this creates a pandas.DataFrame using the id column for indexing\n",
    "data = pd.read_csv(file_name, index_col ='id')"
   ]
  },
  {
   "cell_type": "code",
   "execution_count": 3,
   "id": "e5aadb7b",
   "metadata": {},
   "outputs": [],
   "source": [
    "df_num = data.copy()\n"
   ]
  },
  {
   "cell_type": "code",
   "execution_count": 4,
   "id": "b1baf3cc",
   "metadata": {},
   "outputs": [],
   "source": [
    "df_num['sex'].replace(['FEMALE', 'MALE'], [0,1], inplace=True)\n",
    "\n",
    "df_num['married'].replace(['NO', 'YES'], [0,1], inplace=True)\n",
    "df_num['car'].replace(['NO', 'YES'], [0,1], inplace=True)\n",
    "df_num['save_act'].replace(['NO', 'YES'], [0,1], inplace=True)\n",
    "df_num['current_act'].replace(['NO', 'YES'], [0,1], inplace=True)\n",
    "df_num['mortgage'].replace(['NO', 'YES'], [0,1], inplace=True)\n",
    "df_num['pep'].replace(['NO', 'YES'], [0,1], inplace=True)\n",
    "# One-hot encoding a single column - region - using pandas\n",
    "# use pd.concat to join the new columns with your original dataframe\n",
    "df_num = pd.concat([df_num,pd.get_dummies(df_num['region'], prefix='region')],axis=1)\n",
    "\n",
    "# now drop the original 'region' column (you don't need it anymore)\n",
    "df_num.drop(['region'],axis=1, inplace=True)\n",
    "df_num['children'].replace([0,1,2,3], [\"zero\",\"one\", \"two\", \"three\"], inplace=True)\n",
    "df_num = pd.concat([df_num,pd.get_dummies(df_num['children'], prefix='children')],axis=1)\n",
    "\n",
    "# now drop the original 'country' column (you don't need it anymore)\n",
    "df_num.drop(['children'],axis=1, inplace=True)\n",
    "target = df_num.pop(\"pep\")\n",
    "\n",
    "df_num.insert(0, target.name, target)"
   ]
  },
  {
   "cell_type": "code",
   "execution_count": 7,
   "id": "a58f77b6",
   "metadata": {},
   "outputs": [
    {
     "name": "stdout",
     "output_type": "stream",
     "text": [
      "              age  sex    income  married  car  save_act  current_act  \\\n",
      "id                                                                      \n",
      "ID12101  0.612245  0.0  0.215634      0.0  0.0       0.0          0.0   \n",
      "ID12102  0.448980  1.0  0.431395      1.0  1.0       0.0          1.0   \n",
      "ID12103  0.673469  0.0  0.198933      1.0  1.0       1.0          1.0   \n",
      "ID12104  0.102041  0.0  0.264320      1.0  0.0       0.0          1.0   \n",
      "ID12105  0.795918  0.0  0.783987      1.0  0.0       1.0          0.0   \n",
      "...           ...  ...       ...      ...  ...       ...          ...   \n",
      "ID12696  0.877551  0.0  0.722880      0.0  1.0       1.0          1.0   \n",
      "ID12697  0.244898  0.0  0.080151      1.0  1.0       1.0          1.0   \n",
      "ID12698  0.265306  0.0  0.188625      1.0  1.0       1.0          0.0   \n",
      "ID12699  0.224490  1.0  0.166866      1.0  0.0       1.0          0.0   \n",
      "ID12700  0.408163  1.0  0.372659      0.0  1.0       0.0          1.0   \n",
      "\n",
      "         mortgage  region_INNER_CITY  region_RURAL  region_SUBURBAN  \\\n",
      "id                                                                    \n",
      "ID12101       0.0                1.0           0.0              0.0   \n",
      "ID12102       1.0                0.0           0.0              0.0   \n",
      "ID12103       0.0                1.0           0.0              0.0   \n",
      "ID12104       0.0                0.0           0.0              0.0   \n",
      "ID12105       0.0                0.0           1.0              0.0   \n",
      "...           ...                ...           ...              ...   \n",
      "ID12696       1.0                1.0           0.0              0.0   \n",
      "ID12697       0.0                1.0           0.0              0.0   \n",
      "ID12698       0.0                0.0           0.0              0.0   \n",
      "ID12699       1.0                1.0           0.0              0.0   \n",
      "ID12700       1.0                0.0           0.0              0.0   \n",
      "\n",
      "         region_TOWN  children_one  children_three  children_two  \\\n",
      "id                                                                 \n",
      "ID12101          0.0           1.0             0.0           0.0   \n",
      "ID12102          1.0           0.0             1.0           0.0   \n",
      "ID12103          0.0           0.0             0.0           0.0   \n",
      "ID12104          1.0           0.0             1.0           0.0   \n",
      "ID12105          0.0           0.0             0.0           0.0   \n",
      "...              ...           ...             ...           ...   \n",
      "ID12696          0.0           0.0             0.0           1.0   \n",
      "ID12697          0.0           0.0             0.0           0.0   \n",
      "ID12698          1.0           0.0             0.0           0.0   \n",
      "ID12699          0.0           0.0             0.0           0.0   \n",
      "ID12700          1.0           0.0             0.0           0.0   \n",
      "\n",
      "         children_zero  \n",
      "id                      \n",
      "ID12101            0.0  \n",
      "ID12102            0.0  \n",
      "ID12103            1.0  \n",
      "ID12104            0.0  \n",
      "ID12105            1.0  \n",
      "...                ...  \n",
      "ID12696            0.0  \n",
      "ID12697            1.0  \n",
      "ID12698            1.0  \n",
      "ID12699            1.0  \n",
      "ID12700            1.0  \n",
      "\n",
      "[600 rows x 16 columns]\n"
     ]
    }
   ],
   "source": [
    "# split data into features and target variable\n",
    "X = df_num.drop(columns=['pep' ])\n",
    "Y = df_num['pep'].values\n",
    "for x in X:\n",
    "    minD = np.min(df_num[x])\n",
    "    maxD = np.max(df_num[x])\n",
    "    rangeD = maxD - minD\n",
    "    df_num[x] -= minD\n",
    "    df_num[x] /= rangeD\n",
    "print(X)\n"
   ]
  },
  {
   "cell_type": "code",
   "execution_count": null,
   "id": "a3d469f9",
   "metadata": {},
   "outputs": [],
   "source": [
    "cp = df_num.copy()"
   ]
  },
  {
   "cell_type": "code",
   "execution_count": null,
   "id": "9770fa2c",
   "metadata": {},
   "outputs": [],
   "source": []
  },
  {
   "cell_type": "code",
   "execution_count": null,
   "id": "193e806f",
   "metadata": {},
   "outputs": [],
   "source": []
  }
 ],
 "metadata": {
  "kernelspec": {
   "display_name": "Python 3 (ipykernel)",
   "language": "python",
   "name": "python3"
  },
  "language_info": {
   "codemirror_mode": {
    "name": "ipython",
    "version": 3
   },
   "file_extension": ".py",
   "mimetype": "text/x-python",
   "name": "python",
   "nbconvert_exporter": "python",
   "pygments_lexer": "ipython3",
   "version": "3.9.12"
  }
 },
 "nbformat": 4,
 "nbformat_minor": 5
}
