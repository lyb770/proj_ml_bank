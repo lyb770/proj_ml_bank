{
 "cells": [
  {
   "cell_type": "markdown",
   "metadata": {},
   "source": [
    "# Profiting from classifiers\n",
    "### Mini-project\n",
    "In this project you apply your classification skills for solving a business problem.\n",
    "\n",
    "Imagine that you are working for a bank. Last year the bank sent a mass direct mailing offer to promote the Personal Equity Plan (PEP). You collected the information about customers and their responses into the dataset [bank_data.csv](https://drive.google.com/file/d/13VEWvirEi-AQwQzZwVZxDSKwym0vAvIk/view?usp=sharing). \n",
    "\n",
    "You want to make use of these data to design a new mailing campaign with a higher response rate. The ultimate goal is to spend less for the campaign, but increase the overall profit (number of respondents).\n",
    "\n",
    "The idea is to build a classification model from historical data, and use this classifier on new customers to predict who is more likely to respond. We can then selectively target only these customers, and not waste the effort on unpromising customer groups."
   ]
  },
  {
   "cell_type": "markdown",
   "metadata": {},
   "source": [
    "## Part 1. Building a model"
   ]
  },
  {
   "cell_type": "markdown",
   "metadata": {},
   "source": [
    "### 1.1. Data exploration and preparation"
   ]
  },
  {
   "cell_type": "code",
   "execution_count": 120,
   "metadata": {},
   "outputs": [],
   "source": [
    "file_name = \"bank-data.csv\""
   ]
  },
  {
   "cell_type": "code",
   "execution_count": 121,
   "metadata": {},
   "outputs": [],
   "source": [
    "import pandas as pd\n",
    "import numpy as np\n",
    "import matplotlib.pyplot as plt\n",
    "%matplotlib inline\n",
    "import seaborn as sns\n",
    "\n",
    "# this creates a pandas.DataFrame using the id column for indexing\n",
    "data = pd.read_csv(file_name, index_col ='id')"
   ]
  },
  {
   "cell_type": "code",
   "execution_count": 122,
   "metadata": {},
   "outputs": [
    {
     "data": {
      "text/plain": [
       "Index(['age', 'sex', 'region', 'income', 'married', 'children', 'car',\n",
       "       'save_act', 'current_act', 'mortgage', 'pep'],\n",
       "      dtype='object')"
      ]
     },
     "execution_count": 122,
     "metadata": {},
     "output_type": "execute_result"
    }
   ],
   "source": [
    "data.columns"
   ]
  },
  {
   "cell_type": "code",
   "execution_count": 123,
   "metadata": {},
   "outputs": [
    {
     "data": {
      "text/html": [
       "<div>\n",
       "<style scoped>\n",
       "    .dataframe tbody tr th:only-of-type {\n",
       "        vertical-align: middle;\n",
       "    }\n",
       "\n",
       "    .dataframe tbody tr th {\n",
       "        vertical-align: top;\n",
       "    }\n",
       "\n",
       "    .dataframe thead th {\n",
       "        text-align: right;\n",
       "    }\n",
       "</style>\n",
       "<table border=\"1\" class=\"dataframe\">\n",
       "  <thead>\n",
       "    <tr style=\"text-align: right;\">\n",
       "      <th></th>\n",
       "      <th>age</th>\n",
       "      <th>sex</th>\n",
       "      <th>region</th>\n",
       "      <th>income</th>\n",
       "      <th>married</th>\n",
       "      <th>children</th>\n",
       "      <th>car</th>\n",
       "      <th>save_act</th>\n",
       "      <th>current_act</th>\n",
       "      <th>mortgage</th>\n",
       "      <th>pep</th>\n",
       "    </tr>\n",
       "    <tr>\n",
       "      <th>id</th>\n",
       "      <th></th>\n",
       "      <th></th>\n",
       "      <th></th>\n",
       "      <th></th>\n",
       "      <th></th>\n",
       "      <th></th>\n",
       "      <th></th>\n",
       "      <th></th>\n",
       "      <th></th>\n",
       "      <th></th>\n",
       "      <th></th>\n",
       "    </tr>\n",
       "  </thead>\n",
       "  <tbody>\n",
       "    <tr>\n",
       "      <th>ID12101</th>\n",
       "      <td>48</td>\n",
       "      <td>FEMALE</td>\n",
       "      <td>INNER_CITY</td>\n",
       "      <td>17546.0</td>\n",
       "      <td>NO</td>\n",
       "      <td>1</td>\n",
       "      <td>NO</td>\n",
       "      <td>NO</td>\n",
       "      <td>NO</td>\n",
       "      <td>NO</td>\n",
       "      <td>YES</td>\n",
       "    </tr>\n",
       "    <tr>\n",
       "      <th>ID12102</th>\n",
       "      <td>40</td>\n",
       "      <td>MALE</td>\n",
       "      <td>TOWN</td>\n",
       "      <td>30085.1</td>\n",
       "      <td>YES</td>\n",
       "      <td>3</td>\n",
       "      <td>YES</td>\n",
       "      <td>NO</td>\n",
       "      <td>YES</td>\n",
       "      <td>YES</td>\n",
       "      <td>NO</td>\n",
       "    </tr>\n",
       "    <tr>\n",
       "      <th>ID12103</th>\n",
       "      <td>51</td>\n",
       "      <td>FEMALE</td>\n",
       "      <td>INNER_CITY</td>\n",
       "      <td>16575.4</td>\n",
       "      <td>YES</td>\n",
       "      <td>0</td>\n",
       "      <td>YES</td>\n",
       "      <td>YES</td>\n",
       "      <td>YES</td>\n",
       "      <td>NO</td>\n",
       "      <td>NO</td>\n",
       "    </tr>\n",
       "    <tr>\n",
       "      <th>ID12104</th>\n",
       "      <td>23</td>\n",
       "      <td>FEMALE</td>\n",
       "      <td>TOWN</td>\n",
       "      <td>20375.4</td>\n",
       "      <td>YES</td>\n",
       "      <td>3</td>\n",
       "      <td>NO</td>\n",
       "      <td>NO</td>\n",
       "      <td>YES</td>\n",
       "      <td>NO</td>\n",
       "      <td>NO</td>\n",
       "    </tr>\n",
       "    <tr>\n",
       "      <th>ID12105</th>\n",
       "      <td>57</td>\n",
       "      <td>FEMALE</td>\n",
       "      <td>RURAL</td>\n",
       "      <td>50576.3</td>\n",
       "      <td>YES</td>\n",
       "      <td>0</td>\n",
       "      <td>NO</td>\n",
       "      <td>YES</td>\n",
       "      <td>NO</td>\n",
       "      <td>NO</td>\n",
       "      <td>NO</td>\n",
       "    </tr>\n",
       "  </tbody>\n",
       "</table>\n",
       "</div>"
      ],
      "text/plain": [
       "         age     sex      region   income married  children  car save_act  \\\n",
       "id                                                                          \n",
       "ID12101   48  FEMALE  INNER_CITY  17546.0      NO         1   NO       NO   \n",
       "ID12102   40    MALE        TOWN  30085.1     YES         3  YES       NO   \n",
       "ID12103   51  FEMALE  INNER_CITY  16575.4     YES         0  YES      YES   \n",
       "ID12104   23  FEMALE        TOWN  20375.4     YES         3   NO       NO   \n",
       "ID12105   57  FEMALE       RURAL  50576.3     YES         0   NO      YES   \n",
       "\n",
       "        current_act mortgage  pep  \n",
       "id                                 \n",
       "ID12101          NO       NO  YES  \n",
       "ID12102         YES      YES   NO  \n",
       "ID12103         YES       NO   NO  \n",
       "ID12104         YES       NO   NO  \n",
       "ID12105          NO       NO   NO  "
      ]
     },
     "execution_count": 123,
     "metadata": {},
     "output_type": "execute_result"
    }
   ],
   "source": [
    "data.head()"
   ]
  },
  {
   "cell_type": "markdown",
   "metadata": {},
   "source": [
    "The dataset contains the following variables/attributes for each potential customer: \n",
    "- id (String)\n",
    "- age (int)\n",
    "- sex {FEMALE,MALE}\n",
    "- region {INNER_CITY,TOWN,RURAL,SUBURBAN}\n",
    "- income (int)\n",
    "- married {YES, NO}\n",
    "- children (int)\n",
    "- car {YES, NO}\n",
    "- save_act - Saving account in our bank {Yes, No}\n",
    "- current_act - Current account in our bank {YES, NO}\n",
    "- mortgage {YES, NO}\n",
    "\n",
    "And the last attribute - pep {YES, NO} is a target attribute: whether a customer responded to our promotion mail and joined a Personal Equity Plan."
   ]
  },
  {
   "cell_type": "markdown",
   "metadata": {},
   "source": [
    "To see correlation between attributes and response, we convert all attributes to numeric: ."
   ]
  },
  {
   "cell_type": "code",
   "execution_count": 151,
   "metadata": {},
   "outputs": [],
   "source": [
    "# First, create a copy of the original data frame - to make a fully numeric dataset\n",
    "df_num = data.copy()\n",
    "\n",
    "# we need to replace 'sex', 'region', 'married', 'car', 'save_act', 'current_act', 'mortgage', 'pep'"
   ]
  },
  {
   "cell_type": "markdown",
   "metadata": {},
   "source": [
    "The boolean values can be replaced with [0,1]."
   ]
  },
  {
   "cell_type": "code",
   "execution_count": 152,
   "metadata": {},
   "outputs": [
    {
     "name": "stdout",
     "output_type": "stream",
     "text": [
      "['FEMALE' 'MALE']\n",
      "['NO' 'YES']\n",
      "['NO' 'YES']\n",
      "['NO' 'YES']\n",
      "['NO' 'YES']\n",
      "['NO' 'YES']\n",
      "['YES' 'NO']\n"
     ]
    }
   ],
   "source": [
    "print(df_num['sex'].unique())\n",
    "print(df_num['married'].unique())\n",
    "print(df_num['car'].unique())\n",
    "print(df_num['save_act'].unique())\n",
    "print(df_num['current_act'].unique())\n",
    "print(df_num['mortgage'].unique())\n",
    "print(df_num['pep'].unique())"
   ]
  },
  {
   "cell_type": "code",
   "execution_count": 153,
   "metadata": {},
   "outputs": [],
   "source": [
    "df_num['sex'].replace(['FEMALE', 'MALE'], [0,1], inplace=True)\n",
    "\n",
    "df_num['married'].replace(['NO', 'YES'], [0,1], inplace=True)\n",
    "df_num['car'].replace(['NO', 'YES'], [0,1], inplace=True)\n",
    "df_num['save_act'].replace(['NO', 'YES'], [0,1], inplace=True)\n",
    "df_num['current_act'].replace(['NO', 'YES'], [0,1], inplace=True)\n",
    "df_num['mortgage'].replace(['NO', 'YES'], [0,1], inplace=True)\n",
    "df_num['pep'].replace(['NO', 'YES'], [0,1], inplace=True)"
   ]
  },
  {
   "cell_type": "code",
   "execution_count": 154,
   "metadata": {},
   "outputs": [
    {
     "name": "stdout",
     "output_type": "stream",
     "text": [
      "[0 1]\n",
      "[0 1]\n",
      "[0 1]\n",
      "[0 1]\n",
      "[0 1]\n",
      "[0 1]\n",
      "[1 0]\n"
     ]
    }
   ],
   "source": [
    "print(df_num['sex'].unique())\n",
    "print(df_num['married'].unique())\n",
    "print(df_num['car'].unique())\n",
    "print(df_num['save_act'].unique())\n",
    "print(df_num['current_act'].unique())\n",
    "print(df_num['mortgage'].unique())\n",
    "print(df_num['pep'].unique())"
   ]
  },
  {
   "cell_type": "code",
   "execution_count": 155,
   "metadata": {},
   "outputs": [
    {
     "name": "stdout",
     "output_type": "stream",
     "text": [
      "['INNER_CITY' 'TOWN' 'RURAL' 'SUBURBAN']\n",
      "[1 3 0 2]\n"
     ]
    }
   ],
   "source": [
    "print(df_num['region'].unique())\n",
    "print(df_num['children'].unique())"
   ]
  },
  {
   "cell_type": "markdown",
   "metadata": {},
   "source": [
    "The 'region' attribute with cardinality 4 should be replaced using [one hot encoding](https://datagy.io/sklearn-one-hot-encode/). Please refresh your knowledge about converting categorical attributes into numerics (binary)."
   ]
  },
  {
   "cell_type": "code",
   "execution_count": 156,
   "metadata": {},
   "outputs": [],
   "source": [
    "# One-hot encoding a single column - region - using pandas\n",
    "# use pd.concat to join the new columns with your original dataframe\n",
    "df_num = pd.concat([df_num,pd.get_dummies(df_num['region'], prefix='region')],axis=1)\n",
    "\n",
    "# now drop the original 'region' column (you don't need it anymore)\n",
    "df_num.drop(['region'],axis=1, inplace=True)"
   ]
  },
  {
   "cell_type": "markdown",
   "metadata": {},
   "source": [
    "For the attribute 'children' there are only 4 distinct values - it is not a truly numeric attribute, it is rather an ordinal attribute. It also does not seem reasonable to assume that the difference between childless families and the families with 1 child is the same as the difference between 1-child and 2-child families. So we should probably treat the number of children as a categorical attribute with cardinality 4.  "
   ]
  },
  {
   "cell_type": "code",
   "execution_count": 157,
   "metadata": {},
   "outputs": [],
   "source": [
    "df_num['children'].replace([0,1,2,3], [\"zero\",\"one\", \"two\", \"three\"], inplace=True)"
   ]
  },
  {
   "cell_type": "code",
   "execution_count": 158,
   "metadata": {},
   "outputs": [],
   "source": [
    "df_num = pd.concat([df_num,pd.get_dummies(df_num['children'], prefix='children')],axis=1)\n",
    "\n",
    "# now drop the original 'country' column (you don't need it anymore)\n",
    "df_num.drop(['children'],axis=1, inplace=True)"
   ]
  },
  {
   "cell_type": "markdown",
   "metadata": {},
   "source": [
    "Reordering to place the target variable into the first column."
   ]
  },
  {
   "cell_type": "code",
   "execution_count": 159,
   "metadata": {},
   "outputs": [],
   "source": [
    "target = df_num.pop(\"pep\")\n",
    "\n",
    "df_num.insert(0, target.name, target)"
   ]
  },
  {
   "cell_type": "code",
   "execution_count": 161,
   "metadata": {},
   "outputs": [
    {
     "data": {
      "text/plain": [
       "Index(['pep', 'age', 'sex', 'income', 'married', 'car', 'save_act',\n",
       "       'current_act', 'mortgage', 'region_INNER_CITY', 'region_RURAL',\n",
       "       'region_SUBURBAN', 'region_TOWN', 'children_one', 'children_three',\n",
       "       'children_two', 'children_zero'],\n",
       "      dtype='object')"
      ]
     },
     "execution_count": 161,
     "metadata": {},
     "output_type": "execute_result"
    }
   ],
   "source": [
    "df_num.columns"
   ]
  },
  {
   "cell_type": "code",
   "execution_count": 24,
   "metadata": {},
   "outputs": [
    {
     "data": {
      "text/plain": [
       "<AxesSubplot:>"
      ]
     },
     "execution_count": 24,
     "metadata": {},
     "output_type": "execute_result"
    },
    {
     "data": {
      "image/png": "[encoded data removed]",
      "text/plain": [
       "<Figure size 720x576 with 2 Axes>"
      ]
     },
     "metadata": {
      "needs_background": "light"
     },
     "output_type": "display_data"
    }
   ],
   "source": [
    "fig, ax = plt.subplots(figsize=(10,8)) \n",
    "corr = df_num.corr()\n",
    "sns.heatmap(corr, center=0, annot=True, linewidths=.1, ax=ax)"
   ]
  },
  {
   "cell_type": "markdown",
   "metadata": {},
   "source": [
    "## 1.2. Classifiers\n",
    "We learned about the following classifiers: \n",
    "- __Logistic Regression__\n",
    "- __Support Vector Machines__\n",
    "- __Decision Trees__\n",
    "- __k-Nearest Neighbors__\n",
    "- __Naive Bayes__\n",
    "\n",
    "We explore each classifier in turn, trying to build the model with the best accuracy for the test set.\n",
    "We compare classifiers using 10-20 fold cross validation. Do not forget to normalize numeric attributes. After each experiment, use statistical comparison to find out if the current classifier is better than the previous one.\n",
    "\n",
    "__The best score that I managed to achieve was 89.7. So you should not settle for anything less than 89.5.__\n",
    "\n",
    "Document all your experiments in the cells below."
   ]
  },
  {
   "cell_type": "markdown",
   "metadata": {},
   "source": [
    "### Classifiers that work with exclusively numeric attributes\n",
    "\n",
    "### K-NN\n",
    "Use all your knowledge from the K-NN lab to build the K-NN classifier with the best prediction rate. "
   ]
  },
  {
   "cell_type": "code",
   "execution_count": 30,
   "metadata": {},
   "outputs": [
    {
     "name": "stdout",
     "output_type": "stream",
     "text": [
      "              age  sex    income  married  car  save_act  current_act  \\\n",
      "id                                                                      \n",
      "ID12101  0.612245  0.0  0.215634      0.0  0.0       0.0          0.0   \n",
      "ID12102  0.448980  1.0  0.431395      1.0  1.0       0.0          1.0   \n",
      "ID12103  0.673469  0.0  0.198933      1.0  1.0       1.0          1.0   \n",
      "ID12104  0.102041  0.0  0.264320      1.0  0.0       0.0          1.0   \n",
      "ID12105  0.795918  0.0  0.783987      1.0  0.0       1.0          0.0   \n",
      "...           ...  ...       ...      ...  ...       ...          ...   \n",
      "ID12696  0.877551  0.0  0.722880      0.0  1.0       1.0          1.0   \n",
      "ID12697  0.244898  0.0  0.080151      1.0  1.0       1.0          1.0   \n",
      "ID12698  0.265306  0.0  0.188625      1.0  1.0       1.0          0.0   \n",
      "ID12699  0.224490  1.0  0.166866      1.0  0.0       1.0          0.0   \n",
      "ID12700  0.408163  1.0  0.372659      0.0  1.0       0.0          1.0   \n",
      "\n",
      "         mortgage  region_INNER_CITY  region_RURAL  region_SUBURBAN  \\\n",
      "id                                                                    \n",
      "ID12101       0.0                1.0           0.0              0.0   \n",
      "ID12102       1.0                0.0           0.0              0.0   \n",
      "ID12103       0.0                1.0           0.0              0.0   \n",
      "ID12104       0.0                0.0           0.0              0.0   \n",
      "ID12105       0.0                0.0           1.0              0.0   \n",
      "...           ...                ...           ...              ...   \n",
      "ID12696       1.0                1.0           0.0              0.0   \n",
      "ID12697       0.0                1.0           0.0              0.0   \n",
      "ID12698       0.0                0.0           0.0              0.0   \n",
      "ID12699       1.0                1.0           0.0              0.0   \n",
      "ID12700       1.0                0.0           0.0              0.0   \n",
      "\n",
      "         region_TOWN  children_one  children_three  children_two  \\\n",
      "id                                                                 \n",
      "ID12101          0.0           1.0             0.0           0.0   \n",
      "ID12102          1.0           0.0             1.0           0.0   \n",
      "ID12103          0.0           0.0             0.0           0.0   \n",
      "ID12104          1.0           0.0             1.0           0.0   \n",
      "ID12105          0.0           0.0             0.0           0.0   \n",
      "...              ...           ...             ...           ...   \n",
      "ID12696          0.0           0.0             0.0           1.0   \n",
      "ID12697          0.0           0.0             0.0           0.0   \n",
      "ID12698          1.0           0.0             0.0           0.0   \n",
      "ID12699          0.0           0.0             0.0           0.0   \n",
      "ID12700          1.0           0.0             0.0           0.0   \n",
      "\n",
      "         children_zero  \n",
      "id                      \n",
      "ID12101            0.0  \n",
      "ID12102            0.0  \n",
      "ID12103            1.0  \n",
      "ID12104            0.0  \n",
      "ID12105            1.0  \n",
      "...                ...  \n",
      "ID12696            0.0  \n",
      "ID12697            1.0  \n",
      "ID12698            1.0  \n",
      "ID12699            1.0  \n",
      "ID12700            1.0  \n",
      "\n",
      "[600 rows x 16 columns]\n"
     ]
    }
   ],
   "source": [
    "# split data into features and target variable\n",
    "X = df_num.drop(columns=['pep' ])\n",
    "Y = df_num['pep'].values\n",
    "for x in X:\n",
    "    minD = np.min(df_num[x])\n",
    "    maxD = np.max(df_num[x])\n",
    "    rangeD = maxD - minD\n",
    "    df_num[x] -= minD\n",
    "    df_num[x] /= rangeD\n",
    "print(X)\n"
   ]
  },
  {
   "cell_type": "code",
   "execution_count": 112,
   "metadata": {},
   "outputs": [],
   "source": [
    "from sklearn.model_selection import train_test_split\n",
    "\n",
    "#split dataset into train and test data\n",
    "X_train, X_test, Y_train, Y_test = train_test_split(X, Y, test_size=0.2)"
   ]
  },
  {
   "cell_type": "code",
   "execution_count": 32,
   "metadata": {},
   "outputs": [
    {
     "data": {
      "text/plain": [
       "KNeighborsClassifier(n_neighbors=21, weights='distance')"
      ]
     },
     "execution_count": 32,
     "metadata": {},
     "output_type": "execute_result"
    }
   ],
   "source": [
    "from sklearn.neighbors import KNeighborsClassifier\n",
    "knn = KNeighborsClassifier(n_neighbors= 21, weights = 'distance' )\n",
    "knn.fit(X_train, Y_train)"
   ]
  },
  {
   "cell_type": "code",
   "execution_count": 33,
   "metadata": {},
   "outputs": [
    {
     "data": {
      "text/plain": [
       "1.0"
      ]
     },
     "execution_count": 33,
     "metadata": {},
     "output_type": "execute_result"
    }
   ],
   "source": [
    "knn.score(X_train, Y_train)\n"
   ]
  },
  {
   "cell_type": "code",
   "execution_count": 34,
   "metadata": {},
   "outputs": [
    {
     "data": {
      "text/plain": [
       "0.825"
      ]
     },
     "execution_count": 34,
     "metadata": {},
     "output_type": "execute_result"
    }
   ],
   "source": [
    "knn.score(X_test, Y_test)"
   ]
  },
  {
   "cell_type": "code",
   "execution_count": 35,
   "metadata": {},
   "outputs": [
    {
     "name": "stdout",
     "output_type": "stream",
     "text": [
      "[0.83333333 0.78333333 0.8        0.78333333 0.85       0.8\n",
      " 0.83333333 0.73333333 0.73333333 0.78333333]\n",
      "cv_scores mean:0.7933333333333333\n"
     ]
    }
   ],
   "source": [
    "from sklearn.model_selection import cross_val_score\n",
    "cv_scores = cross_val_score(knn, X, Y, cv=10)\n",
    "\n",
    "#print each cv score (accuracy) and average them\n",
    "print(cv_scores)\n",
    "print('cv_scores mean:{}'.format(np.mean(cv_scores)))"
   ]
  },
  {
   "cell_type": "code",
   "execution_count": 38,
   "metadata": {},
   "outputs": [
    {
     "data": {
      "text/plain": [
       "GridSearchCV(cv=20, estimator=KNeighborsClassifier(weights='distance'),\n",
       "             param_grid={'n_neighbors': array([ 1,  2,  3,  4,  5,  6,  7,  8,  9, 10, 11, 12, 13, 14, 15, 16, 17,\n",
       "       18, 19, 20, 21, 22, 23, 24, 25, 26, 27, 28, 29, 30, 31, 32, 33, 34])})"
      ]
     },
     "execution_count": 38,
     "metadata": {},
     "output_type": "execute_result"
    }
   ],
   "source": [
    "from sklearn.model_selection import GridSearchCV\n",
    "\n",
    "#create new a knn model\n",
    "new_knn = KNeighborsClassifier(weights='distance')\n",
    "\n",
    "#create a dictionary of all values we want to test for n_neighbors\n",
    "grid_dictionary = {'n_neighbors': np.arange(1,35)}\n",
    "\n",
    "\n",
    "#use gridsearch to test all values for n_neighbors\n",
    "knn = GridSearchCV(new_knn, grid_dictionary, cv = 20)\n",
    "\n",
    "#fit model to data\n",
    "knn.fit(X, Y)"
   ]
  },
  {
   "cell_type": "code",
   "execution_count": 79,
   "metadata": {},
   "outputs": [
    {
     "name": "stdout",
     "output_type": "stream",
     "text": [
      "{'n_neighbors': 21}\n"
     ]
    }
   ],
   "source": [
    "print(knn.best_params_)"
   ]
  },
  {
   "cell_type": "markdown",
   "metadata": {},
   "source": [
    "### Logistic Regression\n",
    "Try Logistic Regression. Try different Expectation Maximization algorithms. Maybe some variations of regularization? \n",
    "\n",
    "Is your Log Regr score better than the K-NN score? Is it significantly better? If the scores do not differ significantly, you may continue with any of them. Otherwise, continue with the better classifier."
   ]
  },
  {
   "cell_type": "code",
   "execution_count": 108,
   "metadata": {},
   "outputs": [
    {
     "name": "stdout",
     "output_type": "stream",
     "text": [
      "0.71875 0.7833333333333333\n"
     ]
    }
   ],
   "source": [
    "from sklearn import linear_model\n",
    "\n",
    "# Fit (train) the Logistic Regression classifier\n",
    "logregr = linear_model.LogisticRegression(penalty ='l2' ,C=1e50, solver= 'newton-cg', max_iter = 10000)\n",
    "fitted_model = logregr.fit(X_test, Y_test)\n",
    "\n",
    "# Predict\n",
    "test_res = logregr.score(X_train, Y_train)\n",
    "prediction_result = logregr.score(X_test, Y_test) #174 cm, 82 kg\n",
    "print(test_res,prediction_result)"
   ]
  },
  {
   "cell_type": "code",
   "execution_count": 103,
   "metadata": {},
   "outputs": [
    {
     "data": {
      "text/plain": [
       "0.7666666666666667"
      ]
     },
     "execution_count": 103,
     "metadata": {},
     "output_type": "execute_result"
    }
   ],
   "source": [
    " from sklearn.linear_model import LogisticRegressionCV\n",
    "clf = LogisticRegressionCV( Cs=100,cv=50, solver =\"liblinear\", random_state=0).fit(X_train, Y_train)\n",
    "clf.score(X_test, Y_test)"
   ]
  },
  {
   "cell_type": "code",
   "execution_count": null,
   "metadata": {},
   "outputs": [],
   "source": []
  },
  {
   "cell_type": "markdown",
   "metadata": {},
   "source": [
    "### Support Vector Machines\n",
    "Try to improve classification with SVM. Compare the scores statistically. COntinue with a better classifier."
   ]
  },
  {
   "cell_type": "code",
   "execution_count": 113,
   "metadata": {},
   "outputs": [
    {
     "name": "stdout",
     "output_type": "stream",
     "text": [
      "0.8875\n",
      "0.8583333333333333\n"
     ]
    }
   ],
   "source": [
    "from sklearn.svm import SVC\n",
    "clf =  SVC(C=1.7, kernel = 'rbf', random_state = 10)\n",
    "clf.fit(X_train, Y_train)\n",
    "print(clf.score(X_train,Y_train))\n",
    "print(clf.score(X_test,Y_test))"
   ]
  },
  {
   "cell_type": "markdown",
   "metadata": {},
   "source": [
    "### Classifiers that work with both numeric and categorical attributes\n",
    "### Naive Bayes\n",
    "We can use Naive Bayes classifier on the original dataset without replacing categorical values with numeric ones. \n",
    "Think which parameters still need to be adjusted. Maybe try binning income and age into categorical bins. Try Naive Bayes classifier. Adjust parameters. Maybe you can use a ROC curve to set a different classification threshold? Select the best classifer so far."
   ]
  },
  {
   "cell_type": "code",
   "execution_count": 168,
   "metadata": {},
   "outputs": [
    {
     "data": {
      "text/html": [
       "<div>\n",
       "<style scoped>\n",
       "    .dataframe tbody tr th:only-of-type {\n",
       "        vertical-align: middle;\n",
       "    }\n",
       "\n",
       "    .dataframe tbody tr th {\n",
       "        vertical-align: top;\n",
       "    }\n",
       "\n",
       "    .dataframe thead th {\n",
       "        text-align: right;\n",
       "    }\n",
       "</style>\n",
       "<table border=\"1\" class=\"dataframe\">\n",
       "  <thead>\n",
       "    <tr style=\"text-align: right;\">\n",
       "      <th></th>\n",
       "      <th>pep</th>\n",
       "      <th>age</th>\n",
       "      <th>sex</th>\n",
       "      <th>income</th>\n",
       "      <th>married</th>\n",
       "      <th>car</th>\n",
       "      <th>save_act</th>\n",
       "      <th>current_act</th>\n",
       "      <th>mortgage</th>\n",
       "      <th>region_INNER_CITY</th>\n",
       "      <th>region_RURAL</th>\n",
       "      <th>region_SUBURBAN</th>\n",
       "      <th>region_TOWN</th>\n",
       "      <th>children_one</th>\n",
       "      <th>children_three</th>\n",
       "      <th>children_two</th>\n",
       "      <th>children_zero</th>\n",
       "    </tr>\n",
       "    <tr>\n",
       "      <th>id</th>\n",
       "      <th></th>\n",
       "      <th></th>\n",
       "      <th></th>\n",
       "      <th></th>\n",
       "      <th></th>\n",
       "      <th></th>\n",
       "      <th></th>\n",
       "      <th></th>\n",
       "      <th></th>\n",
       "      <th></th>\n",
       "      <th></th>\n",
       "      <th></th>\n",
       "      <th></th>\n",
       "      <th></th>\n",
       "      <th></th>\n",
       "      <th></th>\n",
       "      <th></th>\n",
       "    </tr>\n",
       "  </thead>\n",
       "  <tbody>\n",
       "    <tr>\n",
       "      <th>ID12101</th>\n",
       "      <td>1</td>\n",
       "      <td>3</td>\n",
       "      <td>0</td>\n",
       "      <td>2.0</td>\n",
       "      <td>0</td>\n",
       "      <td>0</td>\n",
       "      <td>0</td>\n",
       "      <td>0</td>\n",
       "      <td>0</td>\n",
       "      <td>1</td>\n",
       "      <td>0</td>\n",
       "      <td>0</td>\n",
       "      <td>0</td>\n",
       "      <td>1</td>\n",
       "      <td>0</td>\n",
       "      <td>0</td>\n",
       "      <td>0</td>\n",
       "    </tr>\n",
       "    <tr>\n",
       "      <th>ID12102</th>\n",
       "      <td>0</td>\n",
       "      <td>2</td>\n",
       "      <td>1</td>\n",
       "      <td>3.0</td>\n",
       "      <td>1</td>\n",
       "      <td>1</td>\n",
       "      <td>0</td>\n",
       "      <td>1</td>\n",
       "      <td>1</td>\n",
       "      <td>0</td>\n",
       "      <td>0</td>\n",
       "      <td>0</td>\n",
       "      <td>1</td>\n",
       "      <td>0</td>\n",
       "      <td>1</td>\n",
       "      <td>0</td>\n",
       "      <td>0</td>\n",
       "    </tr>\n",
       "    <tr>\n",
       "      <th>ID12103</th>\n",
       "      <td>0</td>\n",
       "      <td>3</td>\n",
       "      <td>0</td>\n",
       "      <td>1.0</td>\n",
       "      <td>1</td>\n",
       "      <td>1</td>\n",
       "      <td>1</td>\n",
       "      <td>1</td>\n",
       "      <td>0</td>\n",
       "      <td>1</td>\n",
       "      <td>0</td>\n",
       "      <td>0</td>\n",
       "      <td>0</td>\n",
       "      <td>0</td>\n",
       "      <td>0</td>\n",
       "      <td>0</td>\n",
       "      <td>1</td>\n",
       "    </tr>\n",
       "    <tr>\n",
       "      <th>ID12104</th>\n",
       "      <td>0</td>\n",
       "      <td>1</td>\n",
       "      <td>0</td>\n",
       "      <td>2.0</td>\n",
       "      <td>1</td>\n",
       "      <td>0</td>\n",
       "      <td>0</td>\n",
       "      <td>1</td>\n",
       "      <td>0</td>\n",
       "      <td>0</td>\n",
       "      <td>0</td>\n",
       "      <td>0</td>\n",
       "      <td>1</td>\n",
       "      <td>0</td>\n",
       "      <td>1</td>\n",
       "      <td>0</td>\n",
       "      <td>0</td>\n",
       "    </tr>\n",
       "    <tr>\n",
       "      <th>ID12105</th>\n",
       "      <td>0</td>\n",
       "      <td>4</td>\n",
       "      <td>0</td>\n",
       "      <td>4.0</td>\n",
       "      <td>1</td>\n",
       "      <td>0</td>\n",
       "      <td>1</td>\n",
       "      <td>0</td>\n",
       "      <td>0</td>\n",
       "      <td>0</td>\n",
       "      <td>1</td>\n",
       "      <td>0</td>\n",
       "      <td>0</td>\n",
       "      <td>0</td>\n",
       "      <td>0</td>\n",
       "      <td>0</td>\n",
       "      <td>1</td>\n",
       "    </tr>\n",
       "    <tr>\n",
       "      <th>...</th>\n",
       "      <td>...</td>\n",
       "      <td>...</td>\n",
       "      <td>...</td>\n",
       "      <td>...</td>\n",
       "      <td>...</td>\n",
       "      <td>...</td>\n",
       "      <td>...</td>\n",
       "      <td>...</td>\n",
       "      <td>...</td>\n",
       "      <td>...</td>\n",
       "      <td>...</td>\n",
       "      <td>...</td>\n",
       "      <td>...</td>\n",
       "      <td>...</td>\n",
       "      <td>...</td>\n",
       "      <td>...</td>\n",
       "      <td>...</td>\n",
       "    </tr>\n",
       "    <tr>\n",
       "      <th>ID12696</th>\n",
       "      <td>0</td>\n",
       "      <td>4</td>\n",
       "      <td>0</td>\n",
       "      <td>4.0</td>\n",
       "      <td>0</td>\n",
       "      <td>1</td>\n",
       "      <td>1</td>\n",
       "      <td>1</td>\n",
       "      <td>1</td>\n",
       "      <td>1</td>\n",
       "      <td>0</td>\n",
       "      <td>0</td>\n",
       "      <td>0</td>\n",
       "      <td>0</td>\n",
       "      <td>0</td>\n",
       "      <td>1</td>\n",
       "      <td>0</td>\n",
       "    </tr>\n",
       "    <tr>\n",
       "      <th>ID12697</th>\n",
       "      <td>0</td>\n",
       "      <td>2</td>\n",
       "      <td>0</td>\n",
       "      <td>1.0</td>\n",
       "      <td>1</td>\n",
       "      <td>1</td>\n",
       "      <td>1</td>\n",
       "      <td>1</td>\n",
       "      <td>0</td>\n",
       "      <td>1</td>\n",
       "      <td>0</td>\n",
       "      <td>0</td>\n",
       "      <td>0</td>\n",
       "      <td>0</td>\n",
       "      <td>0</td>\n",
       "      <td>0</td>\n",
       "      <td>1</td>\n",
       "    </tr>\n",
       "    <tr>\n",
       "      <th>ID12698</th>\n",
       "      <td>1</td>\n",
       "      <td>2</td>\n",
       "      <td>0</td>\n",
       "      <td>1.0</td>\n",
       "      <td>1</td>\n",
       "      <td>1</td>\n",
       "      <td>1</td>\n",
       "      <td>0</td>\n",
       "      <td>0</td>\n",
       "      <td>0</td>\n",
       "      <td>0</td>\n",
       "      <td>0</td>\n",
       "      <td>1</td>\n",
       "      <td>0</td>\n",
       "      <td>0</td>\n",
       "      <td>0</td>\n",
       "      <td>1</td>\n",
       "    </tr>\n",
       "    <tr>\n",
       "      <th>ID12699</th>\n",
       "      <td>0</td>\n",
       "      <td>1</td>\n",
       "      <td>1</td>\n",
       "      <td>1.0</td>\n",
       "      <td>1</td>\n",
       "      <td>0</td>\n",
       "      <td>1</td>\n",
       "      <td>0</td>\n",
       "      <td>1</td>\n",
       "      <td>1</td>\n",
       "      <td>0</td>\n",
       "      <td>0</td>\n",
       "      <td>0</td>\n",
       "      <td>0</td>\n",
       "      <td>0</td>\n",
       "      <td>0</td>\n",
       "      <td>1</td>\n",
       "    </tr>\n",
       "    <tr>\n",
       "      <th>ID12700</th>\n",
       "      <td>1</td>\n",
       "      <td>2</td>\n",
       "      <td>1</td>\n",
       "      <td>3.0</td>\n",
       "      <td>0</td>\n",
       "      <td>1</td>\n",
       "      <td>0</td>\n",
       "      <td>1</td>\n",
       "      <td>1</td>\n",
       "      <td>0</td>\n",
       "      <td>0</td>\n",
       "      <td>0</td>\n",
       "      <td>1</td>\n",
       "      <td>0</td>\n",
       "      <td>0</td>\n",
       "      <td>0</td>\n",
       "      <td>1</td>\n",
       "    </tr>\n",
       "  </tbody>\n",
       "</table>\n",
       "<p>600 rows × 17 columns</p>\n",
       "</div>"
      ],
      "text/plain": [
       "         pep  age  sex  income  married  car  save_act  current_act  mortgage  \\\n",
       "id                                                                              \n",
       "ID12101    1    3    0     2.0        0    0         0            0         0   \n",
       "ID12102    0    2    1     3.0        1    1         0            1         1   \n",
       "ID12103    0    3    0     1.0        1    1         1            1         0   \n",
       "ID12104    0    1    0     2.0        1    0         0            1         0   \n",
       "ID12105    0    4    0     4.0        1    0         1            0         0   \n",
       "...      ...  ...  ...     ...      ...  ...       ...          ...       ...   \n",
       "ID12696    0    4    0     4.0        0    1         1            1         1   \n",
       "ID12697    0    2    0     1.0        1    1         1            1         0   \n",
       "ID12698    1    2    0     1.0        1    1         1            0         0   \n",
       "ID12699    0    1    1     1.0        1    0         1            0         1   \n",
       "ID12700    1    2    1     3.0        0    1         0            1         1   \n",
       "\n",
       "         region_INNER_CITY  region_RURAL  region_SUBURBAN  region_TOWN  \\\n",
       "id                                                                       \n",
       "ID12101                  1             0                0            0   \n",
       "ID12102                  0             0                0            1   \n",
       "ID12103                  1             0                0            0   \n",
       "ID12104                  0             0                0            1   \n",
       "ID12105                  0             1                0            0   \n",
       "...                    ...           ...              ...          ...   \n",
       "ID12696                  1             0                0            0   \n",
       "ID12697                  1             0                0            0   \n",
       "ID12698                  0             0                0            1   \n",
       "ID12699                  1             0                0            0   \n",
       "ID12700                  0             0                0            1   \n",
       "\n",
       "         children_one  children_three  children_two  children_zero  \n",
       "id                                                                  \n",
       "ID12101             1               0             0              0  \n",
       "ID12102             0               1             0              0  \n",
       "ID12103             0               0             0              1  \n",
       "ID12104             0               1             0              0  \n",
       "ID12105             0               0             0              1  \n",
       "...               ...             ...           ...            ...  \n",
       "ID12696             0               0             1              0  \n",
       "ID12697             0               0             0              1  \n",
       "ID12698             0               0             0              1  \n",
       "ID12699             0               0             0              1  \n",
       "ID12700             0               0             0              1  \n",
       "\n",
       "[600 rows x 17 columns]"
      ]
     },
     "execution_count": 168,
     "metadata": {},
     "output_type": "execute_result"
    }
   ],
   "source": [
    "cp = df_num.copy()\n",
    "cp['age'].values[cp['age'].values >= 55] = 4\n",
    "cp['age'].values[cp['age'].values >= 42] = 3\n",
    "cp['age'].values[cp['age'].values >= 30] = 2\n",
    "cp['age'].values[cp['age'].values >= 18] = 1\n",
    "cp['income'].values[cp['income'].values >= 36172.675] = 4\n",
    "cp['income'].values[cp['income'].values >= 24925.3] = 3\n",
    "cp['income'].values[cp['income'].values >= 17264.5] = 2\n",
    "cp['income'].values[cp['income'].values >= 5014.21] = 1\n",
    "cp"
   ]
  },
  {
   "cell_type": "code",
   "execution_count": 136,
   "metadata": {},
   "outputs": [
    {
     "name": "stdout",
     "output_type": "stream",
     "text": [
      "0.7291666666666666\n",
      "0.725\n"
     ]
    }
   ],
   "source": [
    "from sklearn.naive_bayes import GaussianNB\n",
    "gnb = GaussianNB()\n",
    "gnb.fit(X_train,Y_train)\n",
    "print(gnb.score(X_train,Y_train))\n",
    "print(gnb.score(X_test,Y_test))"
   ]
  },
  {
   "cell_type": "code",
   "execution_count": 135,
   "metadata": {},
   "outputs": [
    {
     "name": "stdout",
     "output_type": "stream",
     "text": [
      "0.8645833333333334\n"
     ]
    },
    {
     "ename": "IndexError",
     "evalue": "index 61554 is out of bounds for axis 1 with size 60748",
     "output_type": "error",
     "traceback": [
      "\u001b[1;31m---------------------------------------------------------------------------\u001b[0m",
      "\u001b[1;31mIndexError\u001b[0m                                Traceback (most recent call last)",
      "Input \u001b[1;32mIn [135]\u001b[0m, in \u001b[0;36m<cell line: 9>\u001b[1;34m()\u001b[0m\n\u001b[0;32m      7\u001b[0m gnb\u001b[38;5;241m.\u001b[39mfit(S_train,T_train)\n\u001b[0;32m      8\u001b[0m \u001b[38;5;28mprint\u001b[39m(gnb\u001b[38;5;241m.\u001b[39mscore(S_train,T_train))\n\u001b[1;32m----> 9\u001b[0m \u001b[38;5;28mprint\u001b[39m(\u001b[43mgnb\u001b[49m\u001b[38;5;241;43m.\u001b[39;49m\u001b[43mscore\u001b[49m\u001b[43m(\u001b[49m\u001b[43mS_test\u001b[49m\u001b[43m,\u001b[49m\u001b[43mT_test\u001b[49m\u001b[43m)\u001b[49m)\n",
      "File \u001b[1;32mC:\\ProgramData\\Anaconda3\\lib\\site-packages\\sklearn\\base.py:651\u001b[0m, in \u001b[0;36mClassifierMixin.score\u001b[1;34m(self, X, y, sample_weight)\u001b[0m\n\u001b[0;32m    626\u001b[0m \u001b[38;5;124;03m\"\"\"\u001b[39;00m\n\u001b[0;32m    627\u001b[0m \u001b[38;5;124;03mReturn the mean accuracy on the given test data and labels.\u001b[39;00m\n\u001b[0;32m    628\u001b[0m \n\u001b[1;32m   (...)\u001b[0m\n\u001b[0;32m    647\u001b[0m \u001b[38;5;124;03m    Mean accuracy of ``self.predict(X)`` wrt. `y`.\u001b[39;00m\n\u001b[0;32m    648\u001b[0m \u001b[38;5;124;03m\"\"\"\u001b[39;00m\n\u001b[0;32m    649\u001b[0m \u001b[38;5;28;01mfrom\u001b[39;00m \u001b[38;5;21;01m.\u001b[39;00m\u001b[38;5;21;01mmetrics\u001b[39;00m \u001b[38;5;28;01mimport\u001b[39;00m accuracy_score\n\u001b[1;32m--> 651\u001b[0m \u001b[38;5;28;01mreturn\u001b[39;00m accuracy_score(y, \u001b[38;5;28;43mself\u001b[39;49m\u001b[38;5;241;43m.\u001b[39;49m\u001b[43mpredict\u001b[49m\u001b[43m(\u001b[49m\u001b[43mX\u001b[49m\u001b[43m)\u001b[49m, sample_weight\u001b[38;5;241m=\u001b[39msample_weight)\n",
      "File \u001b[1;32mC:\\ProgramData\\Anaconda3\\lib\\site-packages\\sklearn\\naive_bayes.py:83\u001b[0m, in \u001b[0;36m_BaseNB.predict\u001b[1;34m(self, X)\u001b[0m\n\u001b[0;32m     81\u001b[0m check_is_fitted(\u001b[38;5;28mself\u001b[39m)\n\u001b[0;32m     82\u001b[0m X \u001b[38;5;241m=\u001b[39m \u001b[38;5;28mself\u001b[39m\u001b[38;5;241m.\u001b[39m_check_X(X)\n\u001b[1;32m---> 83\u001b[0m jll \u001b[38;5;241m=\u001b[39m \u001b[38;5;28;43mself\u001b[39;49m\u001b[38;5;241;43m.\u001b[39;49m\u001b[43m_joint_log_likelihood\u001b[49m\u001b[43m(\u001b[49m\u001b[43mX\u001b[49m\u001b[43m)\u001b[49m\n\u001b[0;32m     84\u001b[0m \u001b[38;5;28;01mreturn\u001b[39;00m \u001b[38;5;28mself\u001b[39m\u001b[38;5;241m.\u001b[39mclasses_[np\u001b[38;5;241m.\u001b[39margmax(jll, axis\u001b[38;5;241m=\u001b[39m\u001b[38;5;241m1\u001b[39m)]\n",
      "File \u001b[1;32mC:\\ProgramData\\Anaconda3\\lib\\site-packages\\sklearn\\naive_bayes.py:1461\u001b[0m, in \u001b[0;36mCategoricalNB._joint_log_likelihood\u001b[1;34m(self, X)\u001b[0m\n\u001b[0;32m   1459\u001b[0m \u001b[38;5;28;01mfor\u001b[39;00m i \u001b[38;5;129;01min\u001b[39;00m \u001b[38;5;28mrange\u001b[39m(\u001b[38;5;28mself\u001b[39m\u001b[38;5;241m.\u001b[39mn_features_in_):\n\u001b[0;32m   1460\u001b[0m     indices \u001b[38;5;241m=\u001b[39m X[:, i]\n\u001b[1;32m-> 1461\u001b[0m     jll \u001b[38;5;241m+\u001b[39m\u001b[38;5;241m=\u001b[39m \u001b[38;5;28;43mself\u001b[39;49m\u001b[38;5;241;43m.\u001b[39;49m\u001b[43mfeature_log_prob_\u001b[49m\u001b[43m[\u001b[49m\u001b[43mi\u001b[49m\u001b[43m]\u001b[49m\u001b[43m[\u001b[49m\u001b[43m:\u001b[49m\u001b[43m,\u001b[49m\u001b[43m \u001b[49m\u001b[43mindices\u001b[49m\u001b[43m]\u001b[49m\u001b[38;5;241m.\u001b[39mT\n\u001b[0;32m   1462\u001b[0m total_ll \u001b[38;5;241m=\u001b[39m jll \u001b[38;5;241m+\u001b[39m \u001b[38;5;28mself\u001b[39m\u001b[38;5;241m.\u001b[39mclass_log_prior_\n\u001b[0;32m   1463\u001b[0m \u001b[38;5;28;01mreturn\u001b[39;00m total_ll\n",
      "\u001b[1;31mIndexError\u001b[0m: index 61554 is out of bounds for axis 1 with size 60748"
     ]
    }
   ],
   "source": [
    "from sklearn.naive_bayes import CategoricalNB\n",
    "# split data into features and target variable\n",
    "S = df_num.drop(columns=['pep' ])\n",
    "T = df_num['pep'].values\n",
    "S_train, S_test, T_train, T_test = train_test_split(S, T, test_size=0.2, random_state=0)\n",
    "gnb = CategoricalNB()\n",
    "gnb.fit(S_train,T_train)\n",
    "print(gnb.score(S_train,T_train))\n",
    "print(gnb.score(S_test,T_test))"
   ]
  },
  {
   "cell_type": "code",
   "execution_count": 169,
   "metadata": {},
   "outputs": [
    {
     "data": {
      "text/html": [
       "<div>\n",
       "<style scoped>\n",
       "    .dataframe tbody tr th:only-of-type {\n",
       "        vertical-align: middle;\n",
       "    }\n",
       "\n",
       "    .dataframe tbody tr th {\n",
       "        vertical-align: top;\n",
       "    }\n",
       "\n",
       "    .dataframe thead th {\n",
       "        text-align: right;\n",
       "    }\n",
       "</style>\n",
       "<table border=\"1\" class=\"dataframe\">\n",
       "  <thead>\n",
       "    <tr style=\"text-align: right;\">\n",
       "      <th></th>\n",
       "      <th>pep</th>\n",
       "      <th>age</th>\n",
       "      <th>sex</th>\n",
       "      <th>income</th>\n",
       "      <th>married</th>\n",
       "      <th>car</th>\n",
       "      <th>save_act</th>\n",
       "      <th>current_act</th>\n",
       "      <th>mortgage</th>\n",
       "      <th>region_INNER_CITY</th>\n",
       "      <th>region_RURAL</th>\n",
       "      <th>region_SUBURBAN</th>\n",
       "      <th>region_TOWN</th>\n",
       "      <th>children_one</th>\n",
       "      <th>children_three</th>\n",
       "      <th>children_two</th>\n",
       "      <th>children_zero</th>\n",
       "    </tr>\n",
       "  </thead>\n",
       "  <tbody>\n",
       "    <tr>\n",
       "      <th>count</th>\n",
       "      <td>600.000000</td>\n",
       "      <td>600.000000</td>\n",
       "      <td>600.000000</td>\n",
       "      <td>600.000000</td>\n",
       "      <td>600.000000</td>\n",
       "      <td>600.000000</td>\n",
       "      <td>600.000000</td>\n",
       "      <td>600.000000</td>\n",
       "      <td>600.000000</td>\n",
       "      <td>600.000000</td>\n",
       "      <td>600.000000</td>\n",
       "      <td>600.000000</td>\n",
       "      <td>600.000000</td>\n",
       "      <td>600.000000</td>\n",
       "      <td>600.000000</td>\n",
       "      <td>600.000000</td>\n",
       "      <td>600.000000</td>\n",
       "    </tr>\n",
       "    <tr>\n",
       "      <th>mean</th>\n",
       "      <td>0.456667</td>\n",
       "      <td>2.526667</td>\n",
       "      <td>0.500000</td>\n",
       "      <td>2.500000</td>\n",
       "      <td>0.660000</td>\n",
       "      <td>0.493333</td>\n",
       "      <td>0.690000</td>\n",
       "      <td>0.758333</td>\n",
       "      <td>0.348333</td>\n",
       "      <td>0.448333</td>\n",
       "      <td>0.160000</td>\n",
       "      <td>0.103333</td>\n",
       "      <td>0.288333</td>\n",
       "      <td>0.225000</td>\n",
       "      <td>0.113333</td>\n",
       "      <td>0.223333</td>\n",
       "      <td>0.438333</td>\n",
       "    </tr>\n",
       "    <tr>\n",
       "      <th>std</th>\n",
       "      <td>0.498534</td>\n",
       "      <td>1.114162</td>\n",
       "      <td>0.500417</td>\n",
       "      <td>1.118967</td>\n",
       "      <td>0.474104</td>\n",
       "      <td>0.500373</td>\n",
       "      <td>0.462879</td>\n",
       "      <td>0.428451</td>\n",
       "      <td>0.476840</td>\n",
       "      <td>0.497738</td>\n",
       "      <td>0.366912</td>\n",
       "      <td>0.304648</td>\n",
       "      <td>0.453365</td>\n",
       "      <td>0.417931</td>\n",
       "      <td>0.317264</td>\n",
       "      <td>0.416827</td>\n",
       "      <td>0.496597</td>\n",
       "    </tr>\n",
       "    <tr>\n",
       "      <th>min</th>\n",
       "      <td>0.000000</td>\n",
       "      <td>1.000000</td>\n",
       "      <td>0.000000</td>\n",
       "      <td>1.000000</td>\n",
       "      <td>0.000000</td>\n",
       "      <td>0.000000</td>\n",
       "      <td>0.000000</td>\n",
       "      <td>0.000000</td>\n",
       "      <td>0.000000</td>\n",
       "      <td>0.000000</td>\n",
       "      <td>0.000000</td>\n",
       "      <td>0.000000</td>\n",
       "      <td>0.000000</td>\n",
       "      <td>0.000000</td>\n",
       "      <td>0.000000</td>\n",
       "      <td>0.000000</td>\n",
       "      <td>0.000000</td>\n",
       "    </tr>\n",
       "    <tr>\n",
       "      <th>25%</th>\n",
       "      <td>0.000000</td>\n",
       "      <td>2.000000</td>\n",
       "      <td>0.000000</td>\n",
       "      <td>1.750000</td>\n",
       "      <td>0.000000</td>\n",
       "      <td>0.000000</td>\n",
       "      <td>0.000000</td>\n",
       "      <td>1.000000</td>\n",
       "      <td>0.000000</td>\n",
       "      <td>0.000000</td>\n",
       "      <td>0.000000</td>\n",
       "      <td>0.000000</td>\n",
       "      <td>0.000000</td>\n",
       "      <td>0.000000</td>\n",
       "      <td>0.000000</td>\n",
       "      <td>0.000000</td>\n",
       "      <td>0.000000</td>\n",
       "    </tr>\n",
       "    <tr>\n",
       "      <th>50%</th>\n",
       "      <td>0.000000</td>\n",
       "      <td>3.000000</td>\n",
       "      <td>0.500000</td>\n",
       "      <td>2.500000</td>\n",
       "      <td>1.000000</td>\n",
       "      <td>0.000000</td>\n",
       "      <td>1.000000</td>\n",
       "      <td>1.000000</td>\n",
       "      <td>0.000000</td>\n",
       "      <td>0.000000</td>\n",
       "      <td>0.000000</td>\n",
       "      <td>0.000000</td>\n",
       "      <td>0.000000</td>\n",
       "      <td>0.000000</td>\n",
       "      <td>0.000000</td>\n",
       "      <td>0.000000</td>\n",
       "      <td>0.000000</td>\n",
       "    </tr>\n",
       "    <tr>\n",
       "      <th>75%</th>\n",
       "      <td>1.000000</td>\n",
       "      <td>4.000000</td>\n",
       "      <td>1.000000</td>\n",
       "      <td>3.250000</td>\n",
       "      <td>1.000000</td>\n",
       "      <td>1.000000</td>\n",
       "      <td>1.000000</td>\n",
       "      <td>1.000000</td>\n",
       "      <td>1.000000</td>\n",
       "      <td>1.000000</td>\n",
       "      <td>0.000000</td>\n",
       "      <td>0.000000</td>\n",
       "      <td>1.000000</td>\n",
       "      <td>0.000000</td>\n",
       "      <td>0.000000</td>\n",
       "      <td>0.000000</td>\n",
       "      <td>1.000000</td>\n",
       "    </tr>\n",
       "    <tr>\n",
       "      <th>max</th>\n",
       "      <td>1.000000</td>\n",
       "      <td>4.000000</td>\n",
       "      <td>1.000000</td>\n",
       "      <td>4.000000</td>\n",
       "      <td>1.000000</td>\n",
       "      <td>1.000000</td>\n",
       "      <td>1.000000</td>\n",
       "      <td>1.000000</td>\n",
       "      <td>1.000000</td>\n",
       "      <td>1.000000</td>\n",
       "      <td>1.000000</td>\n",
       "      <td>1.000000</td>\n",
       "      <td>1.000000</td>\n",
       "      <td>1.000000</td>\n",
       "      <td>1.000000</td>\n",
       "      <td>1.000000</td>\n",
       "      <td>1.000000</td>\n",
       "    </tr>\n",
       "  </tbody>\n",
       "</table>\n",
       "</div>"
      ],
      "text/plain": [
       "              pep         age         sex      income     married         car  \\\n",
       "count  600.000000  600.000000  600.000000  600.000000  600.000000  600.000000   \n",
       "mean     0.456667    2.526667    0.500000    2.500000    0.660000    0.493333   \n",
       "std      0.498534    1.114162    0.500417    1.118967    0.474104    0.500373   \n",
       "min      0.000000    1.000000    0.000000    1.000000    0.000000    0.000000   \n",
       "25%      0.000000    2.000000    0.000000    1.750000    0.000000    0.000000   \n",
       "50%      0.000000    3.000000    0.500000    2.500000    1.000000    0.000000   \n",
       "75%      1.000000    4.000000    1.000000    3.250000    1.000000    1.000000   \n",
       "max      1.000000    4.000000    1.000000    4.000000    1.000000    1.000000   \n",
       "\n",
       "         save_act  current_act    mortgage  region_INNER_CITY  region_RURAL  \\\n",
       "count  600.000000   600.000000  600.000000         600.000000    600.000000   \n",
       "mean     0.690000     0.758333    0.348333           0.448333      0.160000   \n",
       "std      0.462879     0.428451    0.476840           0.497738      0.366912   \n",
       "min      0.000000     0.000000    0.000000           0.000000      0.000000   \n",
       "25%      0.000000     1.000000    0.000000           0.000000      0.000000   \n",
       "50%      1.000000     1.000000    0.000000           0.000000      0.000000   \n",
       "75%      1.000000     1.000000    1.000000           1.000000      0.000000   \n",
       "max      1.000000     1.000000    1.000000           1.000000      1.000000   \n",
       "\n",
       "       region_SUBURBAN  region_TOWN  children_one  children_three  \\\n",
       "count       600.000000   600.000000    600.000000      600.000000   \n",
       "mean          0.103333     0.288333      0.225000        0.113333   \n",
       "std           0.304648     0.453365      0.417931        0.317264   \n",
       "min           0.000000     0.000000      0.000000        0.000000   \n",
       "25%           0.000000     0.000000      0.000000        0.000000   \n",
       "50%           0.000000     0.000000      0.000000        0.000000   \n",
       "75%           0.000000     1.000000      0.000000        0.000000   \n",
       "max           1.000000     1.000000      1.000000        1.000000   \n",
       "\n",
       "       children_two  children_zero  \n",
       "count    600.000000     600.000000  \n",
       "mean       0.223333       0.438333  \n",
       "std        0.416827       0.496597  \n",
       "min        0.000000       0.000000  \n",
       "25%        0.000000       0.000000  \n",
       "50%        0.000000       0.000000  \n",
       "75%        0.000000       1.000000  \n",
       "max        1.000000       1.000000  "
      ]
     },
     "execution_count": 169,
     "metadata": {},
     "output_type": "execute_result"
    }
   ],
   "source": [
    "cp.describe()\n"
   ]
  },
  {
   "cell_type": "markdown",
   "metadata": {},
   "source": [
    "# Decision tree\n",
    "Unfortunately the sklearn implementation of the decision tree does not take the full advantage of the decision tree power. The sklearn implementation does not work with categorical attributes. You can of course use it on the numeric dataset. The reesults however will be discouraging. Nevertheless try it, play with parameters.\n",
    "\n",
    "You have of course the option of using our custom Decision tree code. You can look at the decision tree produced by our custom code to determine which attributes are most important for classification. You can then reweight them, or even get rid of some attributes and repeat your experiments with all the five classifiers. As a matter of fact, using only a subset of attributes identified this way I was able to improve the classification score.\n",
    "\n",
    "You can also use our custom decision tree as a final classifier, but it requires additional coding to produce probability of class prediction and to evaluate the performance. So do it only if you have time (and desire)."
   ]
  },
  {
   "cell_type": "markdown",
   "metadata": {},
   "source": [
    "### SELECT FINAL CLASSIFIER\n",
    "After all the experiments, select the classifier with the best accuracy (you used cross-validation).\n",
    "\n",
    "Now break your dataset into two parts (using 1:2 ratio) and use one part for testing and 2 parts for building the model.\n",
    "\n",
    "After you buid the final model, make the predictions for each instance in the test set, and record these predictions as _PROBABILITIES_ of belonging to the 'pep' class. __Store these predictions in a separate csv file. This is the input for Part II of this mini-project.__"
   ]
  },
  {
   "cell_type": "markdown",
   "metadata": {},
   "source": [
    "## Part II. Business pitch"
   ]
  },
  {
   "cell_type": "markdown",
   "metadata": {},
   "source": [
    "### Lift chart\n",
    "The result of the previous part is the table of predicted class labels for each instance in the test set. The predictions are expressed in terms of probability of being classified as 'pep' - that is, probability that the respondents buy the equity plan.\n",
    "\n",
    "Our main business proposal is to take a new dataset of potential subscribers, predict their response using our best model, and use only top-ranked customers for the next promotion. \n",
    "\n",
    "Here we want to persuade the bank that targeting selected customers will improve the campaign efficiency: that we can achieve a much better response rate.\n",
    "\n",
    "First, we sort the test dataset by the predicted class - from Yes to No, and then by probability (from highest to the lowest for Yes and from lowest to highest for No). Keep the sorted file separately from the original test set - we need both datasets.\n",
    "\n",
    "Next, we count the number of successfully predicted subscribers, adding for each row in the sorted dataset the cumulative number of customers which responded to the offer. Now, for each number of letter sent we plot the total number of positive responses (see image below for an example). "
   ]
  },
  {
   "cell_type": "markdown",
   "metadata": {},
   "source": [
    "<img src = \"images/counts.png\" text-align=\"center\" width=50%>"
   ]
  },
  {
   "cell_type": "markdown",
   "metadata": {},
   "source": [
    "What can we learn from this chart? The logic is that if we send 10 letters - the success rate of these letters will be high, because 9 out of 10 would reply. If we send 100 letters the success rate would be 69%. However with 100 letters this means 69 new subscribers, and with 10 - only 9. We want to know what is the optimal number of letters to be sent to maximize the profit."
   ]
  },
  {
   "cell_type": "markdown",
   "metadata": {},
   "source": [
    "<img src = \"images/LiftChart.png\" text-align=\"center\" width=50%>"
   ]
  },
  {
   "cell_type": "markdown",
   "metadata": {},
   "source": [
    "For business audience we visualize the results using lift charts, where on the X axis is a number of letters sent, and on the Y axis is the proportion of positive responses for the random mailing and for the mailing which would use the top-ranked customers first. Lift (in the business world) is the ratio of the expected ‘Yes’ responses using the top of predicted list to the number of ‘Yes’ responses from the same number of randomly selected customers. Lift measures the change in the concentration of a target class when the model is applied to the future dataset. Note that if we would send all 180 letters we would have 83 positive responses (46% total success) in both cases.\n",
    "\n",
    "Analyzing this chart, we can see that by sending mails to only 73/180 = 40% of the customers from the top of the ranked list, we should be able to cover 82% of potential responders. \n",
    "\n",
    "Note that we cannot ever cover all 100% of responsive customers, unless we send letters to everybody - our model does not give 100% correct answers."
   ]
  },
  {
   "cell_type": "markdown",
   "metadata": {},
   "source": [
    "__Create the Lift chart from your results, and write a couple of sentences pitching the use of a classifier.__"
   ]
  },
  {
   "cell_type": "markdown",
   "metadata": {},
   "source": [
    "### Cost-benefit analysis"
   ]
  },
  {
   "cell_type": "markdown",
   "metadata": {},
   "source": [
    "Just showing the lift chart might be not enough to persuade bank to apply your classifier. We need to estimate potential revenue.\n",
    "\n",
    "How to choose the optimal number of letters to send? This depends on the:\n",
    "- Cost of each mail: for example, let it be 4\n",
    "- Benefit from each accepted PEP: let it be 15\n",
    "\n",
    "These unrealistic numbers were chosen because of the very small size of the validation dataset – to demonstrate the concept of maximum profit. In real life, the cost of mailing is several cents, and the benefit is hundreds and thousands dollars, but the real datasets of mailings contain millions of records.\n",
    "\n",
    "Then for each row in the sorted table:\n",
    "- We multiply each count of total sent by 4 - the cost of sending\n",
    "- We multiply each positive count by 15 - expected benefit (not everything that we predicted as positive was actually positive, some of our predictions were wrong).\n",
    "- We subtract the cost from the benefit. \n",
    "This produces an expected revenue for a given number of letters sent.\n",
    "\n",
    "In my results sending about 71-73 letters gave the maximum profit of ~ 700 dollars. This profit cannot be achieved by random mailing, this is the profit to our company that we created using machine learning. BTW, what would be the total profit if we sent just 73 letters from the random dataset?\n",
    "\n",
    "__What are your results? Did you manage to generate more profit?__ Briefly discuss your results and what did you learn from this project.\n"
   ]
  },
  {
   "cell_type": "markdown",
   "metadata": {},
   "source": [
    "Copyright &copy; 2022 Marina Barsky."
   ]
  }
 ],
 "metadata": {
  "kernelspec": {
   "display_name": "Python 3 (ipykernel)",
   "language": "python",
   "name": "python3"
  },
  "language_info": {
   "codemirror_mode": {
    "name": "ipython",
    "version": 3
   },
   "file_extension": ".py",
   "mimetype": "text/x-python",
   "name": "python",
   "nbconvert_exporter": "python",
   "pygments_lexer": "ipython3",
   "version": "3.9.12"
  }
 },
 "nbformat": 4,
 "nbformat_minor": 4
}
